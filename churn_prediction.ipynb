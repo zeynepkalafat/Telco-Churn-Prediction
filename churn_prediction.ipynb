{
 "cells": [
  {
   "cell_type": "code",
   "execution_count": 52,
   "id": "d9c95dcd",
   "metadata": {},
   "outputs": [],
   "source": [
    "import numpy as np\n",
    "import pandas as pd\n",
    "import matplotlib.pyplot as plt\n",
    "import seaborn as sns\n",
    "from sklearn.preprocessing import LabelEncoder, RobustScaler\n",
    "from sklearn.model_selection import train_test_split\n",
    "from sklearn.ensemble import RandomForestClassifier\n",
    "from sklearn.metrics import accuracy_score, precision_score, recall_score, f1_score,roc_auc_score"
   ]
  },
  {
   "cell_type": "code",
   "execution_count": 3,
   "id": "deae2d47",
   "metadata": {},
   "outputs": [],
   "source": [
    "pd.set_option('display.max_columns', None)\n",
    "pd.set_option('display.max_rows', None)\n",
    "pd.set_option('display.width', None)"
   ]
  },
  {
   "cell_type": "code",
   "execution_count": 4,
   "id": "5e3fd729",
   "metadata": {},
   "outputs": [],
   "source": [
    "def load():\n",
    "    data = pd.read_csv('datasets\\Telco-Customer-Churn.csv')\n",
    "    return data"
   ]
  },
  {
   "cell_type": "code",
   "execution_count": 5,
   "id": "b1f89a9c",
   "metadata": {},
   "outputs": [],
   "source": [
    "df = load()"
   ]
  },
  {
   "cell_type": "code",
   "execution_count": 6,
   "id": "12f0dfe5",
   "metadata": {},
   "outputs": [
    {
     "data": {
      "text/html": [
       "<div>\n",
       "<style scoped>\n",
       "    .dataframe tbody tr th:only-of-type {\n",
       "        vertical-align: middle;\n",
       "    }\n",
       "\n",
       "    .dataframe tbody tr th {\n",
       "        vertical-align: top;\n",
       "    }\n",
       "\n",
       "    .dataframe thead th {\n",
       "        text-align: right;\n",
       "    }\n",
       "</style>\n",
       "<table border=\"1\" class=\"dataframe\">\n",
       "  <thead>\n",
       "    <tr style=\"text-align: right;\">\n",
       "      <th></th>\n",
       "      <th>customerID</th>\n",
       "      <th>gender</th>\n",
       "      <th>SeniorCitizen</th>\n",
       "      <th>Partner</th>\n",
       "      <th>Dependents</th>\n",
       "      <th>tenure</th>\n",
       "      <th>PhoneService</th>\n",
       "      <th>MultipleLines</th>\n",
       "      <th>InternetService</th>\n",
       "      <th>OnlineSecurity</th>\n",
       "      <th>OnlineBackup</th>\n",
       "      <th>DeviceProtection</th>\n",
       "      <th>TechSupport</th>\n",
       "      <th>StreamingTV</th>\n",
       "      <th>StreamingMovies</th>\n",
       "      <th>Contract</th>\n",
       "      <th>PaperlessBilling</th>\n",
       "      <th>PaymentMethod</th>\n",
       "      <th>MonthlyCharges</th>\n",
       "      <th>TotalCharges</th>\n",
       "      <th>Churn</th>\n",
       "    </tr>\n",
       "  </thead>\n",
       "  <tbody>\n",
       "    <tr>\n",
       "      <th>0</th>\n",
       "      <td>7590-VHVEG</td>\n",
       "      <td>Female</td>\n",
       "      <td>0</td>\n",
       "      <td>Yes</td>\n",
       "      <td>No</td>\n",
       "      <td>1</td>\n",
       "      <td>No</td>\n",
       "      <td>No phone service</td>\n",
       "      <td>DSL</td>\n",
       "      <td>No</td>\n",
       "      <td>Yes</td>\n",
       "      <td>No</td>\n",
       "      <td>No</td>\n",
       "      <td>No</td>\n",
       "      <td>No</td>\n",
       "      <td>Month-to-month</td>\n",
       "      <td>Yes</td>\n",
       "      <td>Electronic check</td>\n",
       "      <td>29.85</td>\n",
       "      <td>29.85</td>\n",
       "      <td>No</td>\n",
       "    </tr>\n",
       "    <tr>\n",
       "      <th>1</th>\n",
       "      <td>5575-GNVDE</td>\n",
       "      <td>Male</td>\n",
       "      <td>0</td>\n",
       "      <td>No</td>\n",
       "      <td>No</td>\n",
       "      <td>34</td>\n",
       "      <td>Yes</td>\n",
       "      <td>No</td>\n",
       "      <td>DSL</td>\n",
       "      <td>Yes</td>\n",
       "      <td>No</td>\n",
       "      <td>Yes</td>\n",
       "      <td>No</td>\n",
       "      <td>No</td>\n",
       "      <td>No</td>\n",
       "      <td>One year</td>\n",
       "      <td>No</td>\n",
       "      <td>Mailed check</td>\n",
       "      <td>56.95</td>\n",
       "      <td>1889.5</td>\n",
       "      <td>No</td>\n",
       "    </tr>\n",
       "    <tr>\n",
       "      <th>2</th>\n",
       "      <td>3668-QPYBK</td>\n",
       "      <td>Male</td>\n",
       "      <td>0</td>\n",
       "      <td>No</td>\n",
       "      <td>No</td>\n",
       "      <td>2</td>\n",
       "      <td>Yes</td>\n",
       "      <td>No</td>\n",
       "      <td>DSL</td>\n",
       "      <td>Yes</td>\n",
       "      <td>Yes</td>\n",
       "      <td>No</td>\n",
       "      <td>No</td>\n",
       "      <td>No</td>\n",
       "      <td>No</td>\n",
       "      <td>Month-to-month</td>\n",
       "      <td>Yes</td>\n",
       "      <td>Mailed check</td>\n",
       "      <td>53.85</td>\n",
       "      <td>108.15</td>\n",
       "      <td>Yes</td>\n",
       "    </tr>\n",
       "    <tr>\n",
       "      <th>3</th>\n",
       "      <td>7795-CFOCW</td>\n",
       "      <td>Male</td>\n",
       "      <td>0</td>\n",
       "      <td>No</td>\n",
       "      <td>No</td>\n",
       "      <td>45</td>\n",
       "      <td>No</td>\n",
       "      <td>No phone service</td>\n",
       "      <td>DSL</td>\n",
       "      <td>Yes</td>\n",
       "      <td>No</td>\n",
       "      <td>Yes</td>\n",
       "      <td>Yes</td>\n",
       "      <td>No</td>\n",
       "      <td>No</td>\n",
       "      <td>One year</td>\n",
       "      <td>No</td>\n",
       "      <td>Bank transfer (automatic)</td>\n",
       "      <td>42.30</td>\n",
       "      <td>1840.75</td>\n",
       "      <td>No</td>\n",
       "    </tr>\n",
       "    <tr>\n",
       "      <th>4</th>\n",
       "      <td>9237-HQITU</td>\n",
       "      <td>Female</td>\n",
       "      <td>0</td>\n",
       "      <td>No</td>\n",
       "      <td>No</td>\n",
       "      <td>2</td>\n",
       "      <td>Yes</td>\n",
       "      <td>No</td>\n",
       "      <td>Fiber optic</td>\n",
       "      <td>No</td>\n",
       "      <td>No</td>\n",
       "      <td>No</td>\n",
       "      <td>No</td>\n",
       "      <td>No</td>\n",
       "      <td>No</td>\n",
       "      <td>Month-to-month</td>\n",
       "      <td>Yes</td>\n",
       "      <td>Electronic check</td>\n",
       "      <td>70.70</td>\n",
       "      <td>151.65</td>\n",
       "      <td>Yes</td>\n",
       "    </tr>\n",
       "  </tbody>\n",
       "</table>\n",
       "</div>"
      ],
      "text/plain": [
       "   customerID  gender  SeniorCitizen Partner Dependents  tenure PhoneService  \\\n",
       "0  7590-VHVEG  Female              0     Yes         No       1           No   \n",
       "1  5575-GNVDE    Male              0      No         No      34          Yes   \n",
       "2  3668-QPYBK    Male              0      No         No       2          Yes   \n",
       "3  7795-CFOCW    Male              0      No         No      45           No   \n",
       "4  9237-HQITU  Female              0      No         No       2          Yes   \n",
       "\n",
       "      MultipleLines InternetService OnlineSecurity OnlineBackup  \\\n",
       "0  No phone service             DSL             No          Yes   \n",
       "1                No             DSL            Yes           No   \n",
       "2                No             DSL            Yes          Yes   \n",
       "3  No phone service             DSL            Yes           No   \n",
       "4                No     Fiber optic             No           No   \n",
       "\n",
       "  DeviceProtection TechSupport StreamingTV StreamingMovies        Contract  \\\n",
       "0               No          No          No              No  Month-to-month   \n",
       "1              Yes          No          No              No        One year   \n",
       "2               No          No          No              No  Month-to-month   \n",
       "3              Yes         Yes          No              No        One year   \n",
       "4               No          No          No              No  Month-to-month   \n",
       "\n",
       "  PaperlessBilling              PaymentMethod  MonthlyCharges TotalCharges  \\\n",
       "0              Yes           Electronic check           29.85        29.85   \n",
       "1               No               Mailed check           56.95       1889.5   \n",
       "2              Yes               Mailed check           53.85       108.15   \n",
       "3               No  Bank transfer (automatic)           42.30      1840.75   \n",
       "4              Yes           Electronic check           70.70       151.65   \n",
       "\n",
       "  Churn  \n",
       "0    No  \n",
       "1    No  \n",
       "2   Yes  \n",
       "3    No  \n",
       "4   Yes  "
      ]
     },
     "execution_count": 6,
     "metadata": {},
     "output_type": "execute_result"
    }
   ],
   "source": [
    "df.head()"
   ]
  },
  {
   "cell_type": "markdown",
   "id": "29e4bc10",
   "metadata": {},
   "source": [
    "* CustomerId ( Müşteri İd’si )\n",
    "* Gender ( Cinsiyet )\n",
    "* SeniorCitizen ( Müşterinin yaşlı olup olmadığı (1, 0) )\n",
    "* Partner ( Müşterinin evli olup olmadığı (Evet, Hayır) )\n",
    "* Dependents ( Müşterinin bakmakla yükümlü olduğu kişiler olup olmadığı (Evet, Hayır) )\n",
    "* tenure ( Müşterinin şirkette kaldığı ay sayısı )\n",
    "* PhoneService ( Müşterinin telefon hizmeti olup olmadığı (Evet, Hayır) )\n",
    "* MultipleLines ( Müşterinin birden fazla hattı olup olmadığı (Evet, Hayır, Telefon hizmeti yok) )\n",
    "* InternetService ( Müşterinin internet servis sağlayıcısı (DSL, Fiber optik, Hayır) )\n",
    "* OnlineSecurity ( Müşterinin çevrimiçi güvenliğinin olup olmadığı (Evet, Hayır, İnternet hizmeti yok) )\n",
    "* OnlineBackup ( Müşterinin online yedeğinin olup olmadığı (Evet, Hayır, İnternet hizmeti yok) )\n",
    "* DeviceProtection ( Müşterinin cihaz korumasına sahip olup olmadığı (Evet, Hayır, İnternet hizmeti yok) )\n",
    "* TechSupport ( Müşterinin teknik destek alıp almadığı (Evet, Hayır, İnternet hizmeti yok )\n",
    "* StreamingTV ( Müşterinin TV yayını olup olmadığı (Evet, Hayır, İnternet hizmeti yok ) \n",
    "* StreamingMovies ( Müşterinin film akışı olup olmadığı (Evet, Hayır, İnternet hizmeti yok )\n",
    "* Contract ( Müşterinin sözleşme süresi (Aydan aya, Bir yıl, İki yıl )\n",
    "* PaperlessBilling ( Müşterinin kağıtsız faturası olup olmadığı (Evet, Hayır) )\n",
    "* PaymentMethod ( Müşterinin ödeme yöntemi (Elektronik çek, Posta çeki, Banka havalesi (otomatik), Kredi kartı (otomatik) )\n",
    "* MonthlyCharges ( Müşteriden aylık olarak tahsil edilen tutar )\n",
    "* TotalCharges ( Müşteriden tahsil edilen toplam tutar )\n",
    "* Churn ( Müşterinin kullanıp kullanmadığı (Evet veya Hayır) ) # geçen ay veya çeyreklik dilimde ayrılan müşteriler"
   ]
  },
  {
   "cell_type": "markdown",
   "id": "baf41691",
   "metadata": {},
   "source": [
    "\n",
    "\n",
    "# Keşifçi Veri Analizi (Exploratory Data Analysis) \n"
   ]
  },
  {
   "cell_type": "markdown",
   "id": "936f156e",
   "metadata": {},
   "source": [
    " 1. Genel Resim\n",
    " 2. Nümerik ve kategorik değişkenlerin yakalanması\n",
    " 3. Nümerik ve kategorik değişkenlerin analizi\n",
    " 4. Hedef Değişken Analizi  \n",
    " (Kategorik değişkenlere göre hedef değişkenin ortalaması, hedef değişkene göre nümerik değişkenlerin ortalaması)\n",
    " 5. Aykırı Gözlem Analizi\n",
    " 6. Eksik Gözlem Analiz\n",
    " 7. Korelasyon Analizi "
   ]
  },
  {
   "cell_type": "markdown",
   "id": "1504d9e0",
   "metadata": {},
   "source": [
    "\n",
    "### 1. Genel Resim\n"
   ]
  },
  {
   "cell_type": "code",
   "execution_count": 7,
   "id": "b339ed62",
   "metadata": {},
   "outputs": [],
   "source": [
    "def check_df(dataframe):\n",
    "    print(\"##################### Shape #####################\")\n",
    "    print(dataframe.shape)\n",
    "    print(\"##################### Types #####################\")\n",
    "    print(dataframe.dtypes)\n",
    "    print(\"##################### Head #####################\")\n",
    "    print(dataframe.head(3))\n",
    "    print(\"##################### Tail #####################\")\n",
    "    print(dataframe.tail(3))\n",
    "    print(\"##################### NA #####################\")\n",
    "    print(dataframe.isnull().sum())\n",
    "    print(\"##################### Describe #####################\")\n",
    "    print(dataframe.describe([0.05, 0.50, 0.95, 0.99]).T)"
   ]
  },
  {
   "cell_type": "code",
   "execution_count": 8,
   "id": "a0f704aa",
   "metadata": {},
   "outputs": [
    {
     "name": "stdout",
     "output_type": "stream",
     "text": [
      "##################### Shape #####################\n",
      "(7043, 21)\n",
      "##################### Types #####################\n",
      "customerID           object\n",
      "gender               object\n",
      "SeniorCitizen         int64\n",
      "Partner              object\n",
      "Dependents           object\n",
      "tenure                int64\n",
      "PhoneService         object\n",
      "MultipleLines        object\n",
      "InternetService      object\n",
      "OnlineSecurity       object\n",
      "OnlineBackup         object\n",
      "DeviceProtection     object\n",
      "TechSupport          object\n",
      "StreamingTV          object\n",
      "StreamingMovies      object\n",
      "Contract             object\n",
      "PaperlessBilling     object\n",
      "PaymentMethod        object\n",
      "MonthlyCharges      float64\n",
      "TotalCharges         object\n",
      "Churn                object\n",
      "dtype: object\n",
      "##################### Head #####################\n",
      "   customerID  gender  SeniorCitizen Partner Dependents  tenure PhoneService  \\\n",
      "0  7590-VHVEG  Female              0     Yes         No       1           No   \n",
      "1  5575-GNVDE    Male              0      No         No      34          Yes   \n",
      "2  3668-QPYBK    Male              0      No         No       2          Yes   \n",
      "\n",
      "      MultipleLines InternetService OnlineSecurity OnlineBackup  \\\n",
      "0  No phone service             DSL             No          Yes   \n",
      "1                No             DSL            Yes           No   \n",
      "2                No             DSL            Yes          Yes   \n",
      "\n",
      "  DeviceProtection TechSupport StreamingTV StreamingMovies        Contract  \\\n",
      "0               No          No          No              No  Month-to-month   \n",
      "1              Yes          No          No              No        One year   \n",
      "2               No          No          No              No  Month-to-month   \n",
      "\n",
      "  PaperlessBilling     PaymentMethod  MonthlyCharges TotalCharges Churn  \n",
      "0              Yes  Electronic check           29.85        29.85    No  \n",
      "1               No      Mailed check           56.95       1889.5    No  \n",
      "2              Yes      Mailed check           53.85       108.15   Yes  \n",
      "##################### Tail #####################\n",
      "      customerID  gender  SeniorCitizen Partner Dependents  tenure  \\\n",
      "7040  4801-JZAZL  Female              0     Yes        Yes      11   \n",
      "7041  8361-LTMKD    Male              1     Yes         No       4   \n",
      "7042  3186-AJIEK    Male              0      No         No      66   \n",
      "\n",
      "     PhoneService     MultipleLines InternetService OnlineSecurity  \\\n",
      "7040           No  No phone service             DSL            Yes   \n",
      "7041          Yes               Yes     Fiber optic             No   \n",
      "7042          Yes                No     Fiber optic            Yes   \n",
      "\n",
      "     OnlineBackup DeviceProtection TechSupport StreamingTV StreamingMovies  \\\n",
      "7040           No               No          No          No              No   \n",
      "7041           No               No          No          No              No   \n",
      "7042           No              Yes         Yes         Yes             Yes   \n",
      "\n",
      "            Contract PaperlessBilling              PaymentMethod  \\\n",
      "7040  Month-to-month              Yes           Electronic check   \n",
      "7041  Month-to-month              Yes               Mailed check   \n",
      "7042        Two year              Yes  Bank transfer (automatic)   \n",
      "\n",
      "      MonthlyCharges TotalCharges Churn  \n",
      "7040           29.60       346.45    No  \n",
      "7041           74.40        306.6   Yes  \n",
      "7042          105.65       6844.5    No  \n",
      "##################### NA #####################\n",
      "customerID          0\n",
      "gender              0\n",
      "SeniorCitizen       0\n",
      "Partner             0\n",
      "Dependents          0\n",
      "tenure              0\n",
      "PhoneService        0\n",
      "MultipleLines       0\n",
      "InternetService     0\n",
      "OnlineSecurity      0\n",
      "OnlineBackup        0\n",
      "DeviceProtection    0\n",
      "TechSupport         0\n",
      "StreamingTV         0\n",
      "StreamingMovies     0\n",
      "Contract            0\n",
      "PaperlessBilling    0\n",
      "PaymentMethod       0\n",
      "MonthlyCharges      0\n",
      "TotalCharges        0\n",
      "Churn               0\n",
      "dtype: int64\n",
      "##################### Describe #####################\n",
      "                 count       mean        std    min     5%    50%    95%  \\\n",
      "SeniorCitizen   7043.0   0.162147   0.368612   0.00   0.00   0.00    1.0   \n",
      "tenure          7043.0  32.371149  24.559481   0.00   1.00  29.00   72.0   \n",
      "MonthlyCharges  7043.0  64.761692  30.090047  18.25  19.65  70.35  107.4   \n",
      "\n",
      "                    99%     max  \n",
      "SeniorCitizen     1.000    1.00  \n",
      "tenure           72.000   72.00  \n",
      "MonthlyCharges  114.729  118.75  \n"
     ]
    }
   ],
   "source": [
    "check_df(df)"
   ]
  },
  {
   "cell_type": "code",
   "execution_count": 9,
   "id": "db7b2e1b",
   "metadata": {},
   "outputs": [],
   "source": [
    "# TotalCharges  : toplam tutar değişkeni. Object tipinde. Nümerik değişkene çevrilmeli.\n",
    "df['TotalCharges'] = pd.to_numeric(df['TotalCharges'], errors = 'coerce') # Nanları es geç"
   ]
  },
  {
   "cell_type": "code",
   "execution_count": 10,
   "id": "2541b52d",
   "metadata": {},
   "outputs": [
    {
     "name": "stdout",
     "output_type": "stream",
     "text": [
      "<class 'pandas.core.frame.DataFrame'>\n",
      "RangeIndex: 7043 entries, 0 to 7042\n",
      "Data columns (total 21 columns):\n",
      " #   Column            Non-Null Count  Dtype  \n",
      "---  ------            --------------  -----  \n",
      " 0   customerID        7043 non-null   object \n",
      " 1   gender            7043 non-null   object \n",
      " 2   SeniorCitizen     7043 non-null   int64  \n",
      " 3   Partner           7043 non-null   object \n",
      " 4   Dependents        7043 non-null   object \n",
      " 5   tenure            7043 non-null   int64  \n",
      " 6   PhoneService      7043 non-null   object \n",
      " 7   MultipleLines     7043 non-null   object \n",
      " 8   InternetService   7043 non-null   object \n",
      " 9   OnlineSecurity    7043 non-null   object \n",
      " 10  OnlineBackup      7043 non-null   object \n",
      " 11  DeviceProtection  7043 non-null   object \n",
      " 12  TechSupport       7043 non-null   object \n",
      " 13  StreamingTV       7043 non-null   object \n",
      " 14  StreamingMovies   7043 non-null   object \n",
      " 15  Contract          7043 non-null   object \n",
      " 16  PaperlessBilling  7043 non-null   object \n",
      " 17  PaymentMethod     7043 non-null   object \n",
      " 18  MonthlyCharges    7043 non-null   float64\n",
      " 19  TotalCharges      7032 non-null   float64\n",
      " 20  Churn             7043 non-null   object \n",
      "dtypes: float64(2), int64(2), object(17)\n",
      "memory usage: 1.1+ MB\n"
     ]
    }
   ],
   "source": [
    "df.info()"
   ]
  },
  {
   "cell_type": "code",
   "execution_count": 11,
   "id": "751e8b36",
   "metadata": {},
   "outputs": [],
   "source": [
    "# Bağımlı değişken olan Churn değerini 1 ve 0 olarak değiştir.\n",
    "df[\"Churn\"] = df[\"Churn\"].apply(lambda x : 1 if x == \"Yes\" else 0)"
   ]
  },
  {
   "cell_type": "markdown",
   "id": "44296f0a",
   "metadata": {},
   "source": [
    "### 2. Nümerik ve kategorik değişkenlerin yakalanması"
   ]
  },
  {
   "cell_type": "code",
   "execution_count": 12,
   "id": "9468a7ce",
   "metadata": {},
   "outputs": [],
   "source": [
    "def grab_col_names(dataframe, cat_th=10, car_th=20):\n",
    "    \n",
    "\n",
    "    cat_cols = [col for col in dataframe.columns if dataframe[col].dtypes == \"O\"]\n",
    "\n",
    "    num_but_cat = [col for col in dataframe.columns if dataframe[col].nunique() < cat_th and\n",
    "                   dataframe[col].dtypes != \"O\"]\n",
    "\n",
    "    cat_but_car = [col for col in dataframe.columns if dataframe[col].nunique() > car_th and\n",
    "                   dataframe[col].dtypes == \"O\"]\n",
    "\n",
    "    cat_cols = cat_cols + num_but_cat\n",
    "    cat_cols = [col for col in cat_cols if col not in cat_but_car]\n",
    "\n",
    "    num_cols = [col for col in dataframe.columns if dataframe[col].dtypes != \"O\"]\n",
    "    num_cols = [col for col in num_cols if col not in num_but_cat]\n",
    "\n",
    "    print(f\"Observations: {dataframe.shape[0]}\")\n",
    "    print(f\"Variables: {dataframe.shape[1]}\")\n",
    "    print(f'cat_cols: {len(cat_cols)}')\n",
    "    print(f'num_cols: {len(num_cols)}')\n",
    "    print(f'cat_but_car: {len(cat_but_car)}')\n",
    "    print(f'num_but_cat: {len(num_but_cat)}')\n",
    "\n",
    "    # cat_cols + num_cols + cat_but_car = değişken sayısı.\n",
    "    # num_but_cat cat_cols'un içerisinde zaten.\n",
    "    # dolayısıyla tüm şu 3 liste ile tüm değişkenler seçilmiş olacaktır: cat_cols + num_cols + cat_but_car\n",
    "    # num_but_cat sadece raporlama için verilmiştir.\n",
    "\n",
    "    return cat_cols, cat_but_car, num_cols, num_but_cat"
   ]
  },
  {
   "cell_type": "code",
   "execution_count": 13,
   "id": "3f06fcfc",
   "metadata": {},
   "outputs": [
    {
     "name": "stdout",
     "output_type": "stream",
     "text": [
      "Observations: 7043\n",
      "Variables: 21\n",
      "cat_cols: 17\n",
      "num_cols: 3\n",
      "cat_but_car: 1\n",
      "num_but_cat: 2\n"
     ]
    }
   ],
   "source": [
    "cat_cols, cat_but_car, num_cols, num_but_cat = grab_col_names(df)"
   ]
  },
  {
   "cell_type": "code",
   "execution_count": 14,
   "id": "72f89051",
   "metadata": {},
   "outputs": [
    {
     "data": {
      "text/plain": [
       "['gender',\n",
       " 'Partner',\n",
       " 'Dependents',\n",
       " 'PhoneService',\n",
       " 'MultipleLines',\n",
       " 'InternetService',\n",
       " 'OnlineSecurity',\n",
       " 'OnlineBackup',\n",
       " 'DeviceProtection',\n",
       " 'TechSupport',\n",
       " 'StreamingTV',\n",
       " 'StreamingMovies',\n",
       " 'Contract',\n",
       " 'PaperlessBilling',\n",
       " 'PaymentMethod',\n",
       " 'SeniorCitizen',\n",
       " 'Churn']"
      ]
     },
     "execution_count": 14,
     "metadata": {},
     "output_type": "execute_result"
    }
   ],
   "source": [
    "cat_cols"
   ]
  },
  {
   "cell_type": "code",
   "execution_count": 15,
   "id": "c09c1f22",
   "metadata": {},
   "outputs": [
    {
     "data": {
      "text/plain": [
       "['SeniorCitizen', 'Churn']"
      ]
     },
     "execution_count": 15,
     "metadata": {},
     "output_type": "execute_result"
    }
   ],
   "source": [
    "num_but_cat"
   ]
  },
  {
   "cell_type": "code",
   "execution_count": 16,
   "id": "d7401dbf",
   "metadata": {},
   "outputs": [
    {
     "data": {
      "text/plain": [
       "['tenure', 'MonthlyCharges', 'TotalCharges']"
      ]
     },
     "execution_count": 16,
     "metadata": {},
     "output_type": "execute_result"
    }
   ],
   "source": [
    "num_cols"
   ]
  },
  {
   "cell_type": "code",
   "execution_count": 17,
   "id": "453dbd4a",
   "metadata": {},
   "outputs": [
    {
     "data": {
      "text/plain": [
       "['customerID']"
      ]
     },
     "execution_count": 17,
     "metadata": {},
     "output_type": "execute_result"
    }
   ],
   "source": [
    "cat_but_car #modele koymayacağız"
   ]
  },
  {
   "cell_type": "code",
   "execution_count": 18,
   "id": "6f443f0d",
   "metadata": {},
   "outputs": [
    {
     "data": {
      "text/html": [
       "<div>\n",
       "<style scoped>\n",
       "    .dataframe tbody tr th:only-of-type {\n",
       "        vertical-align: middle;\n",
       "    }\n",
       "\n",
       "    .dataframe tbody tr th {\n",
       "        vertical-align: top;\n",
       "    }\n",
       "\n",
       "    .dataframe thead th {\n",
       "        text-align: right;\n",
       "    }\n",
       "</style>\n",
       "<table border=\"1\" class=\"dataframe\">\n",
       "  <thead>\n",
       "    <tr style=\"text-align: right;\">\n",
       "      <th></th>\n",
       "      <th>customerID</th>\n",
       "      <th>gender</th>\n",
       "      <th>SeniorCitizen</th>\n",
       "      <th>Partner</th>\n",
       "      <th>Dependents</th>\n",
       "      <th>tenure</th>\n",
       "      <th>PhoneService</th>\n",
       "      <th>MultipleLines</th>\n",
       "      <th>InternetService</th>\n",
       "      <th>OnlineSecurity</th>\n",
       "      <th>OnlineBackup</th>\n",
       "      <th>DeviceProtection</th>\n",
       "      <th>TechSupport</th>\n",
       "      <th>StreamingTV</th>\n",
       "      <th>StreamingMovies</th>\n",
       "      <th>Contract</th>\n",
       "      <th>PaperlessBilling</th>\n",
       "      <th>PaymentMethod</th>\n",
       "      <th>MonthlyCharges</th>\n",
       "      <th>TotalCharges</th>\n",
       "      <th>Churn</th>\n",
       "    </tr>\n",
       "  </thead>\n",
       "  <tbody>\n",
       "    <tr>\n",
       "      <th>0</th>\n",
       "      <td>7590-VHVEG</td>\n",
       "      <td>Female</td>\n",
       "      <td>0</td>\n",
       "      <td>Yes</td>\n",
       "      <td>No</td>\n",
       "      <td>1</td>\n",
       "      <td>No</td>\n",
       "      <td>No phone service</td>\n",
       "      <td>DSL</td>\n",
       "      <td>No</td>\n",
       "      <td>Yes</td>\n",
       "      <td>No</td>\n",
       "      <td>No</td>\n",
       "      <td>No</td>\n",
       "      <td>No</td>\n",
       "      <td>Month-to-month</td>\n",
       "      <td>Yes</td>\n",
       "      <td>Electronic check</td>\n",
       "      <td>29.85</td>\n",
       "      <td>29.85</td>\n",
       "      <td>0</td>\n",
       "    </tr>\n",
       "    <tr>\n",
       "      <th>1</th>\n",
       "      <td>5575-GNVDE</td>\n",
       "      <td>Male</td>\n",
       "      <td>0</td>\n",
       "      <td>No</td>\n",
       "      <td>No</td>\n",
       "      <td>34</td>\n",
       "      <td>Yes</td>\n",
       "      <td>No</td>\n",
       "      <td>DSL</td>\n",
       "      <td>Yes</td>\n",
       "      <td>No</td>\n",
       "      <td>Yes</td>\n",
       "      <td>No</td>\n",
       "      <td>No</td>\n",
       "      <td>No</td>\n",
       "      <td>One year</td>\n",
       "      <td>No</td>\n",
       "      <td>Mailed check</td>\n",
       "      <td>56.95</td>\n",
       "      <td>1889.50</td>\n",
       "      <td>0</td>\n",
       "    </tr>\n",
       "    <tr>\n",
       "      <th>2</th>\n",
       "      <td>3668-QPYBK</td>\n",
       "      <td>Male</td>\n",
       "      <td>0</td>\n",
       "      <td>No</td>\n",
       "      <td>No</td>\n",
       "      <td>2</td>\n",
       "      <td>Yes</td>\n",
       "      <td>No</td>\n",
       "      <td>DSL</td>\n",
       "      <td>Yes</td>\n",
       "      <td>Yes</td>\n",
       "      <td>No</td>\n",
       "      <td>No</td>\n",
       "      <td>No</td>\n",
       "      <td>No</td>\n",
       "      <td>Month-to-month</td>\n",
       "      <td>Yes</td>\n",
       "      <td>Mailed check</td>\n",
       "      <td>53.85</td>\n",
       "      <td>108.15</td>\n",
       "      <td>1</td>\n",
       "    </tr>\n",
       "    <tr>\n",
       "      <th>3</th>\n",
       "      <td>7795-CFOCW</td>\n",
       "      <td>Male</td>\n",
       "      <td>0</td>\n",
       "      <td>No</td>\n",
       "      <td>No</td>\n",
       "      <td>45</td>\n",
       "      <td>No</td>\n",
       "      <td>No phone service</td>\n",
       "      <td>DSL</td>\n",
       "      <td>Yes</td>\n",
       "      <td>No</td>\n",
       "      <td>Yes</td>\n",
       "      <td>Yes</td>\n",
       "      <td>No</td>\n",
       "      <td>No</td>\n",
       "      <td>One year</td>\n",
       "      <td>No</td>\n",
       "      <td>Bank transfer (automatic)</td>\n",
       "      <td>42.30</td>\n",
       "      <td>1840.75</td>\n",
       "      <td>0</td>\n",
       "    </tr>\n",
       "    <tr>\n",
       "      <th>4</th>\n",
       "      <td>9237-HQITU</td>\n",
       "      <td>Female</td>\n",
       "      <td>0</td>\n",
       "      <td>No</td>\n",
       "      <td>No</td>\n",
       "      <td>2</td>\n",
       "      <td>Yes</td>\n",
       "      <td>No</td>\n",
       "      <td>Fiber optic</td>\n",
       "      <td>No</td>\n",
       "      <td>No</td>\n",
       "      <td>No</td>\n",
       "      <td>No</td>\n",
       "      <td>No</td>\n",
       "      <td>No</td>\n",
       "      <td>Month-to-month</td>\n",
       "      <td>Yes</td>\n",
       "      <td>Electronic check</td>\n",
       "      <td>70.70</td>\n",
       "      <td>151.65</td>\n",
       "      <td>1</td>\n",
       "    </tr>\n",
       "  </tbody>\n",
       "</table>\n",
       "</div>"
      ],
      "text/plain": [
       "   customerID  gender  SeniorCitizen Partner Dependents  tenure PhoneService  \\\n",
       "0  7590-VHVEG  Female              0     Yes         No       1           No   \n",
       "1  5575-GNVDE    Male              0      No         No      34          Yes   \n",
       "2  3668-QPYBK    Male              0      No         No       2          Yes   \n",
       "3  7795-CFOCW    Male              0      No         No      45           No   \n",
       "4  9237-HQITU  Female              0      No         No       2          Yes   \n",
       "\n",
       "      MultipleLines InternetService OnlineSecurity OnlineBackup  \\\n",
       "0  No phone service             DSL             No          Yes   \n",
       "1                No             DSL            Yes           No   \n",
       "2                No             DSL            Yes          Yes   \n",
       "3  No phone service             DSL            Yes           No   \n",
       "4                No     Fiber optic             No           No   \n",
       "\n",
       "  DeviceProtection TechSupport StreamingTV StreamingMovies        Contract  \\\n",
       "0               No          No          No              No  Month-to-month   \n",
       "1              Yes          No          No              No        One year   \n",
       "2               No          No          No              No  Month-to-month   \n",
       "3              Yes         Yes          No              No        One year   \n",
       "4               No          No          No              No  Month-to-month   \n",
       "\n",
       "  PaperlessBilling              PaymentMethod  MonthlyCharges  TotalCharges  \\\n",
       "0              Yes           Electronic check           29.85         29.85   \n",
       "1               No               Mailed check           56.95       1889.50   \n",
       "2              Yes               Mailed check           53.85        108.15   \n",
       "3               No  Bank transfer (automatic)           42.30       1840.75   \n",
       "4              Yes           Electronic check           70.70        151.65   \n",
       "\n",
       "   Churn  \n",
       "0      0  \n",
       "1      0  \n",
       "2      1  \n",
       "3      0  \n",
       "4      1  "
      ]
     },
     "execution_count": 18,
     "metadata": {},
     "output_type": "execute_result"
    }
   ],
   "source": [
    "df.head()"
   ]
  },
  {
   "cell_type": "markdown",
   "id": "f7122a29",
   "metadata": {},
   "source": [
    "\n",
    "### 3. Nümerik ve Kategorik Değişkenlerin Analizi\n"
   ]
  },
  {
   "cell_type": "markdown",
   "id": "b648479a",
   "metadata": {},
   "source": [
    "#### Kategorik"
   ]
  },
  {
   "cell_type": "code",
   "execution_count": 19,
   "id": "9ca8a03f",
   "metadata": {},
   "outputs": [],
   "source": [
    "def cat_summary(dataframe, col_name, plot=False):\n",
    "    print(pd.DataFrame({col_name: dataframe[col_name].value_counts(),\n",
    "                        \"Ratio\": 100 * dataframe[col_name].value_counts() / len(dataframe)}))\n",
    "\n",
    "    if plot:\n",
    "        sns.countplot(x=dataframe[col_name], data=dataframe)\n",
    "        plt.show()\n",
    "        \n",
    "    print('####################################################')"
   ]
  },
  {
   "cell_type": "code",
   "execution_count": 20,
   "id": "890a0e53",
   "metadata": {},
   "outputs": [
    {
     "name": "stdout",
     "output_type": "stream",
     "text": [
      "        gender     Ratio\n",
      "Male      3555  50.47565\n",
      "Female    3488  49.52435\n",
      "####################################################\n",
      "     Partner     Ratio\n",
      "No      3641  51.69672\n",
      "Yes     3402  48.30328\n",
      "####################################################\n",
      "     Dependents      Ratio\n",
      "No         4933  70.041176\n",
      "Yes        2110  29.958824\n",
      "####################################################\n",
      "     PhoneService      Ratio\n",
      "Yes          6361  90.316626\n",
      "No            682   9.683374\n",
      "####################################################\n",
      "                  MultipleLines      Ratio\n",
      "No                         3390  48.132898\n",
      "Yes                        2971  42.183729\n",
      "No phone service            682   9.683374\n",
      "####################################################\n",
      "             InternetService      Ratio\n",
      "Fiber optic             3096  43.958540\n",
      "DSL                     2421  34.374556\n",
      "No                      1526  21.666903\n",
      "####################################################\n",
      "                     OnlineSecurity      Ratio\n",
      "No                             3498  49.666335\n",
      "Yes                            2019  28.666761\n",
      "No internet service            1526  21.666903\n",
      "####################################################\n",
      "                     OnlineBackup      Ratio\n",
      "No                           3088  43.844952\n",
      "Yes                          2429  34.488144\n",
      "No internet service          1526  21.666903\n",
      "####################################################\n",
      "                     DeviceProtection      Ratio\n",
      "No                               3095  43.944342\n",
      "Yes                              2422  34.388755\n",
      "No internet service              1526  21.666903\n",
      "####################################################\n",
      "                     TechSupport      Ratio\n",
      "No                          3473  49.311373\n",
      "Yes                         2044  29.021724\n",
      "No internet service         1526  21.666903\n",
      "####################################################\n",
      "                     StreamingTV      Ratio\n",
      "No                          2810  39.897771\n",
      "Yes                         2707  38.435326\n",
      "No internet service         1526  21.666903\n",
      "####################################################\n",
      "                     StreamingMovies      Ratio\n",
      "No                              2785  39.542808\n",
      "Yes                             2732  38.790288\n",
      "No internet service             1526  21.666903\n",
      "####################################################\n",
      "                Contract      Ratio\n",
      "Month-to-month      3875  55.019168\n",
      "Two year            1695  24.066449\n",
      "One year            1473  20.914383\n",
      "####################################################\n",
      "     PaperlessBilling      Ratio\n",
      "Yes              4171  59.221922\n",
      "No               2872  40.778078\n",
      "####################################################\n",
      "                           PaymentMethod      Ratio\n",
      "Electronic check                    2365  33.579441\n",
      "Mailed check                        1612  22.887974\n",
      "Bank transfer (automatic)           1544  21.922476\n",
      "Credit card (automatic)             1522  21.610109\n",
      "####################################################\n",
      "   SeniorCitizen      Ratio\n",
      "0           5901  83.785319\n",
      "1           1142  16.214681\n",
      "####################################################\n",
      "   Churn      Ratio\n",
      "0   5174  73.463013\n",
      "1   1869  26.536987\n",
      "####################################################\n"
     ]
    }
   ],
   "source": [
    "for col in cat_cols:\n",
    "    cat_summary(df, col)"
   ]
  },
  {
   "cell_type": "markdown",
   "id": "7ab67129",
   "metadata": {},
   "source": [
    "* Gender, Partner : Kadın-erkek, evli-bekar oranları yaklaşık %50-%50 dağılmış\n",
    "\n",
    "* Dependents : Toplam müşterilerin yalnızca %30'unun bakmakla yükümlü olduğu kişiler var.\n",
    "\n",
    "* PhoneService : Müşterilerin %90'ı telefon hizmeti almaktadır.\n",
    "\n",
    "* InternetService : Müşterilerin %80'i internet servisi almaktadır.\n",
    "\n",
    "* OnlineSecurity, OnlineBackup, DeviceProtection, TechSupport : İnternet servisi alanların çoğunluğunun çevrimiçi güvenlik hizmeti, online yedek hizmeti, cihaz koruma hizmeti ve teknik destek almadığını gözlemliyoruz.  \n",
    "\n",
    "* StreamingTV, StreamingMovies : İnternet servisi alanların yaklaşık %50'si TV ve film yayın hizmetlerini almakta.  \n",
    "\n",
    "* Contract : Müşterilerin çoğu(%55) aydan aya sözleşme yapıyor. 1 yıllık ve 2 yıllık sözleşmelerde yakın sayıda müşteri bulunmakta.\n",
    "\n",
    "* SeniorCitizen : Veri setinin  %16'sı yaşlı  müşterilerden oluşmakta.\n",
    "\n",
    "###### Churn : Müşterilerin %26'sı geçen ay platformdan ayrılmış.\n"
   ]
  },
  {
   "cell_type": "code",
   "execution_count": 21,
   "id": "40a27dee",
   "metadata": {},
   "outputs": [],
   "source": [
    "# Churn (1) oranı %16 ların altındaysa tehlikeli! Burada öyle bir durum yok."
   ]
  },
  {
   "cell_type": "markdown",
   "id": "9cbd0cc0",
   "metadata": {},
   "source": [
    "#### Nümerik"
   ]
  },
  {
   "cell_type": "code",
   "execution_count": 22,
   "id": "f713641a",
   "metadata": {},
   "outputs": [],
   "source": [
    "def num_summary(dataframe, numerical_col, plot=False):\n",
    "    quantiles = [0.05, 0.10, 0.20, 0.30, 0.40, 0.50, 0.60, 0.70, 0.80, 0.90, 0.95, 0.99]\n",
    "    print(dataframe[numerical_col].describe(quantiles).T)\n",
    "\n",
    "    if plot:\n",
    "        dataframe[numerical_col].hist(bins=50)\n",
    "        plt.xlabel(numerical_col)\n",
    "        plt.title(numerical_col)\n",
    "        plt.show()\n",
    "\n",
    "    print(\"#####################################\")"
   ]
  },
  {
   "cell_type": "code",
   "execution_count": 23,
   "id": "f226b6fe",
   "metadata": {},
   "outputs": [
    {
     "name": "stdout",
     "output_type": "stream",
     "text": [
      "count    7043.000000\n",
      "mean       32.371149\n",
      "std        24.559481\n",
      "min         0.000000\n",
      "5%          1.000000\n",
      "10%         2.000000\n",
      "20%         6.000000\n",
      "30%        12.000000\n",
      "40%        20.000000\n",
      "50%        29.000000\n",
      "60%        40.000000\n",
      "70%        50.000000\n",
      "80%        60.000000\n",
      "90%        69.000000\n",
      "95%        72.000000\n",
      "99%        72.000000\n",
      "max        72.000000\n",
      "Name: tenure, dtype: float64\n"
     ]
    },
    {
     "data": {
      "image/png": "[encoded data removed]",
      "text/plain": [
       "<Figure size 432x288 with 1 Axes>"
      ]
     },
     "metadata": {
      "needs_background": "light"
     },
     "output_type": "display_data"
    },
    {
     "name": "stdout",
     "output_type": "stream",
     "text": [
      "#####################################\n",
      "count    7043.000000\n",
      "mean       64.761692\n",
      "std        30.090047\n",
      "min        18.250000\n",
      "5%         19.650000\n",
      "10%        20.050000\n",
      "20%        25.050000\n",
      "30%        45.850000\n",
      "40%        58.830000\n",
      "50%        70.350000\n",
      "60%        79.100000\n",
      "70%        85.500000\n",
      "80%        94.250000\n",
      "90%       102.600000\n",
      "95%       107.400000\n",
      "99%       114.729000\n",
      "max       118.750000\n",
      "Name: MonthlyCharges, dtype: float64\n"
     ]
    },
    {
     "data": {
      "image/png": "[encoded data removed]",
      "text/plain": [
       "<Figure size 432x288 with 1 Axes>"
      ]
     },
     "metadata": {
      "needs_background": "light"
     },
     "output_type": "display_data"
    },
    {
     "name": "stdout",
     "output_type": "stream",
     "text": [
      "#####################################\n",
      "count    7032.000000\n",
      "mean     2283.300441\n",
      "std      2266.771362\n",
      "min        18.800000\n",
      "5%         49.605000\n",
      "10%        84.600000\n",
      "20%       267.070000\n",
      "30%       551.995000\n",
      "40%       944.170000\n",
      "50%      1397.475000\n",
      "60%      2048.950000\n",
      "70%      3141.130000\n",
      "80%      4475.410000\n",
      "90%      5976.640000\n",
      "95%      6923.590000\n",
      "99%      8039.883000\n",
      "max      8684.800000\n",
      "Name: TotalCharges, dtype: float64\n"
     ]
    },
    {
     "data": {
      "image/png": "[encoded data removed]",
      "text/plain": [
       "<Figure size 432x288 with 1 Axes>"
      ]
     },
     "metadata": {
      "needs_background": "light"
     },
     "output_type": "display_data"
    },
    {
     "name": "stdout",
     "output_type": "stream",
     "text": [
      "#####################################\n"
     ]
    }
   ],
   "source": [
    "for col in num_cols:\n",
    "    num_summary(df, col, plot=True)"
   ]
  },
  {
   "cell_type": "markdown",
   "id": "058f6d3d",
   "metadata": {},
   "source": [
    "### 4. Hedef Değişken Analizi"
   ]
  },
  {
   "cell_type": "code",
   "execution_count": 24,
   "id": "b70004de",
   "metadata": {},
   "outputs": [],
   "source": [
    "# Hedef değişkene göre numerik değişkenlerin ortalaması,\n",
    "# kategorik değişkenlere göre hedef değişkenin ortalaması."
   ]
  },
  {
   "cell_type": "markdown",
   "id": "2eb0403c",
   "metadata": {},
   "source": [
    "#### nümerik değişkenlerin target a göre analizi"
   ]
  },
  {
   "cell_type": "code",
   "execution_count": 25,
   "id": "08cba628",
   "metadata": {},
   "outputs": [],
   "source": [
    "def target_summary_with_num(dataframe, target, numerical_col):\n",
    "    print(dataframe.groupby(target).agg({numerical_col: \"mean\"}), end=\"\\n\\n\\n\")"
   ]
  },
  {
   "cell_type": "code",
   "execution_count": 26,
   "id": "8fe6dee3",
   "metadata": {},
   "outputs": [
    {
     "name": "stdout",
     "output_type": "stream",
     "text": [
      "          tenure\n",
      "Churn           \n",
      "0      37.569965\n",
      "1      17.979133\n",
      "\n",
      "\n",
      "       MonthlyCharges\n",
      "Churn                \n",
      "0           61.265124\n",
      "1           74.441332\n",
      "\n",
      "\n",
      "       TotalCharges\n",
      "Churn              \n",
      "0       2555.344141\n",
      "1       1531.796094\n",
      "\n",
      "\n"
     ]
    }
   ],
   "source": [
    "for col in num_cols:\n",
    "    target_summary_with_num(df, \"Churn\", col)"
   ]
  },
  {
   "cell_type": "markdown",
   "id": "467da292",
   "metadata": {},
   "source": [
    "* tenure : Churn olmayan müşterilerin daha uzun süredir müşteri olduğunu görüyoruz.\n",
    "* MonthlyCharges : Churn olan müşterilerin ort. aylık ödemelerinin daha fazla olduğunu görüyoruz.\n",
    "* TotalCharges : Toplam ücret daha düşük olduğunda daha fazla kayıp var.(Churn olmayanların daha fazla kalmasını bekleriz doğal olarak toplam ücret daha fazla)"
   ]
  },
  {
   "cell_type": "markdown",
   "id": "801b1140",
   "metadata": {},
   "source": [
    "#### kategorik değişkenlerin target a göre analizi"
   ]
  },
  {
   "cell_type": "code",
   "execution_count": 27,
   "id": "da7b42c2",
   "metadata": {},
   "outputs": [],
   "source": [
    "def target_summary_with_cat(dataframe, target, categorical_col):\n",
    "    print(categorical_col)\n",
    "    print(pd.DataFrame({\"TARGET_MEAN\": dataframe.groupby(categorical_col)[target].mean(),\n",
    "                        \"Count\": dataframe[categorical_col].value_counts(),\n",
    "                        \"Ratio\": 100 * dataframe[categorical_col].value_counts() / len(dataframe)}), end=\"\\n\\n\\n\")"
   ]
  },
  {
   "cell_type": "code",
   "execution_count": 28,
   "id": "ad4d9396",
   "metadata": {},
   "outputs": [
    {
     "name": "stdout",
     "output_type": "stream",
     "text": [
      "gender\n",
      "        TARGET_MEAN  Count     Ratio\n",
      "Female     0.269209   3488  49.52435\n",
      "Male       0.261603   3555  50.47565\n",
      "\n",
      "\n",
      "Partner\n",
      "     TARGET_MEAN  Count     Ratio\n",
      "No      0.329580   3641  51.69672\n",
      "Yes     0.196649   3402  48.30328\n",
      "\n",
      "\n",
      "Dependents\n",
      "     TARGET_MEAN  Count      Ratio\n",
      "No      0.312791   4933  70.041176\n",
      "Yes     0.154502   2110  29.958824\n",
      "\n",
      "\n",
      "PhoneService\n",
      "     TARGET_MEAN  Count      Ratio\n",
      "No      0.249267    682   9.683374\n",
      "Yes     0.267096   6361  90.316626\n",
      "\n",
      "\n",
      "MultipleLines\n",
      "                  TARGET_MEAN  Count      Ratio\n",
      "No                   0.250442   3390  48.132898\n",
      "No phone service     0.249267    682   9.683374\n",
      "Yes                  0.286099   2971  42.183729\n",
      "\n",
      "\n",
      "InternetService\n",
      "             TARGET_MEAN  Count      Ratio\n",
      "DSL             0.189591   2421  34.374556\n",
      "Fiber optic     0.418928   3096  43.958540\n",
      "No              0.074050   1526  21.666903\n",
      "\n",
      "\n",
      "OnlineSecurity\n",
      "                     TARGET_MEAN  Count      Ratio\n",
      "No                      0.417667   3498  49.666335\n",
      "No internet service     0.074050   1526  21.666903\n",
      "Yes                     0.146112   2019  28.666761\n",
      "\n",
      "\n",
      "OnlineBackup\n",
      "                     TARGET_MEAN  Count      Ratio\n",
      "No                      0.399288   3088  43.844952\n",
      "No internet service     0.074050   1526  21.666903\n",
      "Yes                     0.215315   2429  34.488144\n",
      "\n",
      "\n",
      "DeviceProtection\n",
      "                     TARGET_MEAN  Count      Ratio\n",
      "No                      0.391276   3095  43.944342\n",
      "No internet service     0.074050   1526  21.666903\n",
      "Yes                     0.225021   2422  34.388755\n",
      "\n",
      "\n",
      "TechSupport\n",
      "                     TARGET_MEAN  Count      Ratio\n",
      "No                      0.416355   3473  49.311373\n",
      "No internet service     0.074050   1526  21.666903\n",
      "Yes                     0.151663   2044  29.021724\n",
      "\n",
      "\n",
      "StreamingTV\n",
      "                     TARGET_MEAN  Count      Ratio\n",
      "No                      0.335231   2810  39.897771\n",
      "No internet service     0.074050   1526  21.666903\n",
      "Yes                     0.300702   2707  38.435326\n",
      "\n",
      "\n",
      "StreamingMovies\n",
      "                     TARGET_MEAN  Count      Ratio\n",
      "No                      0.336804   2785  39.542808\n",
      "No internet service     0.074050   1526  21.666903\n",
      "Yes                     0.299414   2732  38.790288\n",
      "\n",
      "\n",
      "Contract\n",
      "                TARGET_MEAN  Count      Ratio\n",
      "Month-to-month     0.427097   3875  55.019168\n",
      "One year           0.112695   1473  20.914383\n",
      "Two year           0.028319   1695  24.066449\n",
      "\n",
      "\n",
      "PaperlessBilling\n",
      "     TARGET_MEAN  Count      Ratio\n",
      "No      0.163301   2872  40.778078\n",
      "Yes     0.335651   4171  59.221922\n",
      "\n",
      "\n",
      "PaymentMethod\n",
      "                           TARGET_MEAN  Count      Ratio\n",
      "Bank transfer (automatic)     0.167098   1544  21.922476\n",
      "Credit card (automatic)       0.152431   1522  21.610109\n",
      "Electronic check              0.452854   2365  33.579441\n",
      "Mailed check                  0.191067   1612  22.887974\n",
      "\n",
      "\n",
      "SeniorCitizen\n",
      "   TARGET_MEAN  Count      Ratio\n",
      "0     0.236062   5901  83.785319\n",
      "1     0.416813   1142  16.214681\n",
      "\n",
      "\n",
      "Churn\n",
      "   TARGET_MEAN  Count      Ratio\n",
      "0            0   5174  73.463013\n",
      "1            1   1869  26.536987\n",
      "\n",
      "\n"
     ]
    }
   ],
   "source": [
    "for col in cat_cols:\n",
    "    target_summary_with_cat(df, \"Churn\", col)\n"
   ]
  },
  {
   "cell_type": "markdown",
   "id": "d55de448",
   "metadata": {},
   "source": [
    "* gender : Kadın - Erkek Churn oranına baktığımızda herhangi bir farklılık yok. Yani bu sınıfların bir ayırıcılığı olmadığını söyleyebiliriz.\n",
    "* Partner : Evli olmayanlarda Churn oranı daha yüksek (0.32)\n",
    "* Dependents : Birilerine bakmayanların Churn oranı daha yüksek\n",
    "* PhoneService : Herhangi ayırıcı bir kırılım gözlemlemiyoruz.\n",
    "* InternetService : fiber optic alanların daha fazla Churn olduğu gözüküyor. (Büyük ihtimalle fiyat artışından dolayı kayıp yaşanmış)\n",
    "* OnlineSecurity , OnlineBackup, DeviceProtection, TechSupport : Bu hizmetleri almayan müşterilerin churn oranı yüksek (Hizmet alıp almama durumu, değişken türetirken kritik rol oynayabilir!)\n",
    "* Contract : Aylık aboneliği olan müşterilerin Churn oranı daha yüksek\n",
    "* PaperlessBilling : Kağıtsız faturalandırmaya sahip olanların churn oranı daha yüksek\n",
    "* PaymentMethod : ElectronicCheck kullanan müşteriler, diğer seçeneklere kıyasla platformdan daha fazla ayrılma eğiliminde\n",
    "* SeniorCitizen : Yaşlı müşterilerde churn yüzdesi daha yüksektir"
   ]
  },
  {
   "cell_type": "markdown",
   "id": "ba48b6c4",
   "metadata": {},
   "source": [
    "### Nümerik değişkenlerin korelasyonlarına bakalım"
   ]
  },
  {
   "cell_type": "code",
   "execution_count": 29,
   "id": "31895cc7",
   "metadata": {},
   "outputs": [
    {
     "data": {
      "text/html": [
       "<div>\n",
       "<style scoped>\n",
       "    .dataframe tbody tr th:only-of-type {\n",
       "        vertical-align: middle;\n",
       "    }\n",
       "\n",
       "    .dataframe tbody tr th {\n",
       "        vertical-align: top;\n",
       "    }\n",
       "\n",
       "    .dataframe thead th {\n",
       "        text-align: right;\n",
       "    }\n",
       "</style>\n",
       "<table border=\"1\" class=\"dataframe\">\n",
       "  <thead>\n",
       "    <tr style=\"text-align: right;\">\n",
       "      <th></th>\n",
       "      <th>tenure</th>\n",
       "      <th>MonthlyCharges</th>\n",
       "      <th>TotalCharges</th>\n",
       "    </tr>\n",
       "  </thead>\n",
       "  <tbody>\n",
       "    <tr>\n",
       "      <th>tenure</th>\n",
       "      <td>1.00000</td>\n",
       "      <td>0.247900</td>\n",
       "      <td>0.825880</td>\n",
       "    </tr>\n",
       "    <tr>\n",
       "      <th>MonthlyCharges</th>\n",
       "      <td>0.24790</td>\n",
       "      <td>1.000000</td>\n",
       "      <td>0.651065</td>\n",
       "    </tr>\n",
       "    <tr>\n",
       "      <th>TotalCharges</th>\n",
       "      <td>0.82588</td>\n",
       "      <td>0.651065</td>\n",
       "      <td>1.000000</td>\n",
       "    </tr>\n",
       "  </tbody>\n",
       "</table>\n",
       "</div>"
      ],
      "text/plain": [
       "                 tenure  MonthlyCharges  TotalCharges\n",
       "tenure          1.00000        0.247900      0.825880\n",
       "MonthlyCharges  0.24790        1.000000      0.651065\n",
       "TotalCharges    0.82588        0.651065      1.000000"
      ]
     },
     "execution_count": 29,
     "metadata": {},
     "output_type": "execute_result"
    }
   ],
   "source": [
    "corr = df[num_cols].corr()\n",
    "corr"
   ]
  },
  {
   "cell_type": "code",
   "execution_count": 30,
   "id": "9b03213c",
   "metadata": {},
   "outputs": [
    {
     "data": {
      "image/png": "[encoded data removed]",
      "text/plain": [
       "<Figure size 432x288 with 2 Axes>"
      ]
     },
     "metadata": {
      "needs_background": "light"
     },
     "output_type": "display_data"
    }
   ],
   "source": [
    "df.corrwith(df[\"Churn\"]).sort_values(ascending=False)\n",
    "corr_df = df.corr()\n",
    "\n",
    "sns.heatmap(corr_df, annot=True, xticklabels=corr_df.columns, yticklabels=corr_df.columns)\n",
    "plt.show()"
   ]
  },
  {
   "cell_type": "markdown",
   "id": "cdac763a",
   "metadata": {},
   "source": [
    "### 5. Aykırı Gözlem Analizi"
   ]
  },
  {
   "cell_type": "code",
   "execution_count": 31,
   "id": "54a5199c",
   "metadata": {},
   "outputs": [],
   "source": [
    "#eşik değer hesapla\n",
    "def outlier_thresholds(dataframe, col_name, q1=0.5, q3=0.95):\n",
    "    quartile1 = dataframe[col_name].quantile(q1)\n",
    "    quartile3 = dataframe[col_name].quantile(q3)\n",
    "    interquantile_range = quartile3 - quartile1\n",
    "    up_limit = quartile3 + 1.5 * interquantile_range\n",
    "    low_limit = quartile1 - 1.5 * interquantile_range\n",
    "    return low_limit, up_limit"
   ]
  },
  {
   "cell_type": "code",
   "execution_count": 32,
   "id": "6d30218e",
   "metadata": {},
   "outputs": [],
   "source": [
    "# outlier'ları kontrol et\n",
    "def check_outlier(dataframe, col_name):\n",
    "    low_limit, up_limit = outlier_thresholds(dataframe, col_name)\n",
    "    if dataframe[(dataframe[col_name] > up_limit) | (dataframe[col_name] < low_limit)].any(axis=None):\n",
    "        return True\n",
    "    else:\n",
    "        return False"
   ]
  },
  {
   "cell_type": "code",
   "execution_count": 33,
   "id": "2511de37",
   "metadata": {},
   "outputs": [
    {
     "name": "stdout",
     "output_type": "stream",
     "text": [
      "tenure False\n",
      "MonthlyCharges False\n",
      "TotalCharges False\n"
     ]
    }
   ],
   "source": [
    "for col in num_cols:\n",
    "    print(col, check_outlier(df, col))"
   ]
  },
  {
   "cell_type": "code",
   "execution_count": 34,
   "id": "0afec8ba",
   "metadata": {},
   "outputs": [],
   "source": [
    "# Aykırı değer olmadığını gözlemledik."
   ]
  },
  {
   "cell_type": "markdown",
   "id": "f8e5edc2",
   "metadata": {},
   "source": [
    "### 6. Eksik Gözlem Analizi"
   ]
  },
  {
   "cell_type": "code",
   "execution_count": 35,
   "id": "fb9c70ed",
   "metadata": {},
   "outputs": [],
   "source": [
    "def missing_values_table(dataframe, na_name=False):\n",
    "    na_columns = [col for col in dataframe.columns if dataframe[col].isnull().sum() > 0]\n",
    "\n",
    "    n_miss = dataframe[na_columns].isnull().sum().sort_values(ascending=False)\n",
    "    ratio = (dataframe[na_columns].isnull().sum() / dataframe.shape[0] * 100).sort_values(ascending=False)\n",
    "    missing_df = pd.concat([n_miss, np.round(ratio, 2)], axis=1, keys=['n_miss', 'ratio'])\n",
    "    print(missing_df, end=\"\\n\")\n",
    "\n",
    "    if na_name:\n",
    "        return na_columns"
   ]
  },
  {
   "cell_type": "code",
   "execution_count": 36,
   "id": "ef09aa90",
   "metadata": {},
   "outputs": [
    {
     "name": "stdout",
     "output_type": "stream",
     "text": [
      "              n_miss  ratio\n",
      "TotalCharges      11   0.16\n"
     ]
    }
   ],
   "source": [
    "missing_values_table(df)"
   ]
  },
  {
   "cell_type": "markdown",
   "id": "14d46823",
   "metadata": {},
   "source": [
    "# Değişken Mühendisliği (Feature Engineering)"
   ]
  },
  {
   "cell_type": "markdown",
   "id": "2cb3ef77",
   "metadata": {},
   "source": [
    "### 1. Eksik ve aykırı gözlemler için gerekli işlemler"
   ]
  },
  {
   "cell_type": "code",
   "execution_count": 37,
   "id": "ac6fd31e",
   "metadata": {},
   "outputs": [],
   "source": [
    "#Aykırı gözlem yoktu."
   ]
  },
  {
   "cell_type": "markdown",
   "id": "e994ea05",
   "metadata": {},
   "source": [
    "##### Eksik gözlemler için "
   ]
  },
  {
   "cell_type": "code",
   "execution_count": 38,
   "id": "b3965ab1",
   "metadata": {},
   "outputs": [],
   "source": [
    "# 1.YÖNTEM\n",
    "# Bu 11 gözlem silinebilir.\n",
    "# df.dropna().shape"
   ]
  },
  {
   "cell_type": "code",
   "execution_count": 39,
   "id": "e8d78fb0",
   "metadata": {},
   "outputs": [],
   "source": [
    "# 2.YÖNTEM\n",
    "# medyan değerleri ile doldurulabilir\n",
    "# df[\"TotalCharges\"].fillna(df[\"TotalCharges\"].median(), inplace=True) "
   ]
  },
  {
   "cell_type": "code",
   "execution_count": 40,
   "id": "b66f2dd1",
   "metadata": {},
   "outputs": [],
   "source": [
    "# TotalCharges'daki 11 eksik gözlemi incelediğimizde \n",
    "# bu eksik gözlemlerin tenure değerlerinin 0 olduğunu görüyoruz. Yani yeni müşteriler.\n",
    "# Yeni müşteriler henüz ödeme yapmadıkları için TotalCharges değerleri 0 girilmiş,\n",
    "# bunları aylık ödeyecekleri değer olan 'MonthlyCharges' değerleri ile doldurabiliriz."
   ]
  },
  {
   "cell_type": "code",
   "execution_count": 41,
   "id": "f0224d1c",
   "metadata": {},
   "outputs": [
    {
     "data": {
      "text/plain": [
       "customerID          0\n",
       "gender              0\n",
       "SeniorCitizen       0\n",
       "Partner             0\n",
       "Dependents          0\n",
       "tenure              0\n",
       "PhoneService        0\n",
       "MultipleLines       0\n",
       "InternetService     0\n",
       "OnlineSecurity      0\n",
       "OnlineBackup        0\n",
       "DeviceProtection    0\n",
       "TechSupport         0\n",
       "StreamingTV         0\n",
       "StreamingMovies     0\n",
       "Contract            0\n",
       "PaperlessBilling    0\n",
       "PaymentMethod       0\n",
       "MonthlyCharges      0\n",
       "TotalCharges        0\n",
       "Churn               0\n",
       "dtype: int64"
      ]
     },
     "execution_count": 41,
     "metadata": {},
     "output_type": "execute_result"
    }
   ],
   "source": [
    "df[\"TotalCharges\"].fillna(df[\"MonthlyCharges\"], inplace=True)\n",
    "df.isnull().sum()"
   ]
  },
  {
   "cell_type": "markdown",
   "id": "a6db1f9c",
   "metadata": {},
   "source": [
    "### 2. Yeni değişkenler oluşturma"
   ]
  },
  {
   "cell_type": "code",
   "execution_count": 54,
   "id": "89826d89",
   "metadata": {},
   "outputs": [
    {
     "data": {
      "text/html": [
       "<div>\n",
       "<style scoped>\n",
       "    .dataframe tbody tr th:only-of-type {\n",
       "        vertical-align: middle;\n",
       "    }\n",
       "\n",
       "    .dataframe tbody tr th {\n",
       "        vertical-align: top;\n",
       "    }\n",
       "\n",
       "    .dataframe thead th {\n",
       "        text-align: right;\n",
       "    }\n",
       "</style>\n",
       "<table border=\"1\" class=\"dataframe\">\n",
       "  <thead>\n",
       "    <tr style=\"text-align: right;\">\n",
       "      <th></th>\n",
       "      <th>customerID</th>\n",
       "      <th>gender</th>\n",
       "      <th>SeniorCitizen</th>\n",
       "      <th>Partner</th>\n",
       "      <th>Dependents</th>\n",
       "      <th>tenure</th>\n",
       "      <th>PhoneService</th>\n",
       "      <th>MultipleLines</th>\n",
       "      <th>InternetService</th>\n",
       "      <th>OnlineSecurity</th>\n",
       "      <th>OnlineBackup</th>\n",
       "      <th>DeviceProtection</th>\n",
       "      <th>TechSupport</th>\n",
       "      <th>StreamingTV</th>\n",
       "      <th>StreamingMovies</th>\n",
       "      <th>Contract</th>\n",
       "      <th>PaperlessBilling</th>\n",
       "      <th>PaymentMethod</th>\n",
       "      <th>MonthlyCharges</th>\n",
       "      <th>TotalCharges</th>\n",
       "      <th>Churn</th>\n",
       "    </tr>\n",
       "  </thead>\n",
       "  <tbody>\n",
       "    <tr>\n",
       "      <th>0</th>\n",
       "      <td>7590-VHVEG</td>\n",
       "      <td>Female</td>\n",
       "      <td>0</td>\n",
       "      <td>Yes</td>\n",
       "      <td>No</td>\n",
       "      <td>1</td>\n",
       "      <td>No</td>\n",
       "      <td>No phone service</td>\n",
       "      <td>DSL</td>\n",
       "      <td>No</td>\n",
       "      <td>Yes</td>\n",
       "      <td>No</td>\n",
       "      <td>No</td>\n",
       "      <td>No</td>\n",
       "      <td>No</td>\n",
       "      <td>Month-to-month</td>\n",
       "      <td>Yes</td>\n",
       "      <td>Electronic check</td>\n",
       "      <td>29.85</td>\n",
       "      <td>29.85</td>\n",
       "      <td>0</td>\n",
       "    </tr>\n",
       "    <tr>\n",
       "      <th>1</th>\n",
       "      <td>5575-GNVDE</td>\n",
       "      <td>Male</td>\n",
       "      <td>0</td>\n",
       "      <td>No</td>\n",
       "      <td>No</td>\n",
       "      <td>34</td>\n",
       "      <td>Yes</td>\n",
       "      <td>No</td>\n",
       "      <td>DSL</td>\n",
       "      <td>Yes</td>\n",
       "      <td>No</td>\n",
       "      <td>Yes</td>\n",
       "      <td>No</td>\n",
       "      <td>No</td>\n",
       "      <td>No</td>\n",
       "      <td>One year</td>\n",
       "      <td>No</td>\n",
       "      <td>Mailed check</td>\n",
       "      <td>56.95</td>\n",
       "      <td>1889.50</td>\n",
       "      <td>0</td>\n",
       "    </tr>\n",
       "    <tr>\n",
       "      <th>2</th>\n",
       "      <td>3668-QPYBK</td>\n",
       "      <td>Male</td>\n",
       "      <td>0</td>\n",
       "      <td>No</td>\n",
       "      <td>No</td>\n",
       "      <td>2</td>\n",
       "      <td>Yes</td>\n",
       "      <td>No</td>\n",
       "      <td>DSL</td>\n",
       "      <td>Yes</td>\n",
       "      <td>Yes</td>\n",
       "      <td>No</td>\n",
       "      <td>No</td>\n",
       "      <td>No</td>\n",
       "      <td>No</td>\n",
       "      <td>Month-to-month</td>\n",
       "      <td>Yes</td>\n",
       "      <td>Mailed check</td>\n",
       "      <td>53.85</td>\n",
       "      <td>108.15</td>\n",
       "      <td>1</td>\n",
       "    </tr>\n",
       "    <tr>\n",
       "      <th>3</th>\n",
       "      <td>7795-CFOCW</td>\n",
       "      <td>Male</td>\n",
       "      <td>0</td>\n",
       "      <td>No</td>\n",
       "      <td>No</td>\n",
       "      <td>45</td>\n",
       "      <td>No</td>\n",
       "      <td>No phone service</td>\n",
       "      <td>DSL</td>\n",
       "      <td>Yes</td>\n",
       "      <td>No</td>\n",
       "      <td>Yes</td>\n",
       "      <td>Yes</td>\n",
       "      <td>No</td>\n",
       "      <td>No</td>\n",
       "      <td>One year</td>\n",
       "      <td>No</td>\n",
       "      <td>Bank transfer (automatic)</td>\n",
       "      <td>42.30</td>\n",
       "      <td>1840.75</td>\n",
       "      <td>0</td>\n",
       "    </tr>\n",
       "    <tr>\n",
       "      <th>4</th>\n",
       "      <td>9237-HQITU</td>\n",
       "      <td>Female</td>\n",
       "      <td>0</td>\n",
       "      <td>No</td>\n",
       "      <td>No</td>\n",
       "      <td>2</td>\n",
       "      <td>Yes</td>\n",
       "      <td>No</td>\n",
       "      <td>Fiber optic</td>\n",
       "      <td>No</td>\n",
       "      <td>No</td>\n",
       "      <td>No</td>\n",
       "      <td>No</td>\n",
       "      <td>No</td>\n",
       "      <td>No</td>\n",
       "      <td>Month-to-month</td>\n",
       "      <td>Yes</td>\n",
       "      <td>Electronic check</td>\n",
       "      <td>70.70</td>\n",
       "      <td>151.65</td>\n",
       "      <td>1</td>\n",
       "    </tr>\n",
       "  </tbody>\n",
       "</table>\n",
       "</div>"
      ],
      "text/plain": [
       "   customerID  gender  SeniorCitizen Partner Dependents  tenure PhoneService  \\\n",
       "0  7590-VHVEG  Female              0     Yes         No       1           No   \n",
       "1  5575-GNVDE    Male              0      No         No      34          Yes   \n",
       "2  3668-QPYBK    Male              0      No         No       2          Yes   \n",
       "3  7795-CFOCW    Male              0      No         No      45           No   \n",
       "4  9237-HQITU  Female              0      No         No       2          Yes   \n",
       "\n",
       "      MultipleLines InternetService OnlineSecurity OnlineBackup  \\\n",
       "0  No phone service             DSL             No          Yes   \n",
       "1                No             DSL            Yes           No   \n",
       "2                No             DSL            Yes          Yes   \n",
       "3  No phone service             DSL            Yes           No   \n",
       "4                No     Fiber optic             No           No   \n",
       "\n",
       "  DeviceProtection TechSupport StreamingTV StreamingMovies        Contract  \\\n",
       "0               No          No          No              No  Month-to-month   \n",
       "1              Yes          No          No              No        One year   \n",
       "2               No          No          No              No  Month-to-month   \n",
       "3              Yes         Yes          No              No        One year   \n",
       "4               No          No          No              No  Month-to-month   \n",
       "\n",
       "  PaperlessBilling              PaymentMethod  MonthlyCharges  TotalCharges  \\\n",
       "0              Yes           Electronic check           29.85         29.85   \n",
       "1               No               Mailed check           56.95       1889.50   \n",
       "2              Yes               Mailed check           53.85        108.15   \n",
       "3               No  Bank transfer (automatic)           42.30       1840.75   \n",
       "4              Yes           Electronic check           70.70        151.65   \n",
       "\n",
       "   Churn  \n",
       "0      0  \n",
       "1      0  \n",
       "2      1  \n",
       "3      0  \n",
       "4      1  "
      ]
     },
     "execution_count": 54,
     "metadata": {},
     "output_type": "execute_result"
    }
   ],
   "source": [
    "df.head()"
   ]
  },
  {
   "cell_type": "code",
   "execution_count": 55,
   "id": "128e08b3",
   "metadata": {},
   "outputs": [],
   "source": [
    "# 1) NEW_tenure_year\n",
    "# Tenure  değişkeninden yıllık kategorik değişken oluşturma\n",
    "df.loc[(df[\"tenure\"]>=0) & (df[\"tenure\"]<=12),\"NEW_TENURE_YEAR\"] = \"0-1 Year\"\n",
    "df.loc[(df[\"tenure\"]>12) & (df[\"tenure\"]<=24),\"NEW_TENURE_YEAR\"] = \"1-2 Year\"\n",
    "df.loc[(df[\"tenure\"]>24) & (df[\"tenure\"]<=36),\"NEW_TENURE_YEAR\"] = \"2-3 Year\"\n",
    "df.loc[(df[\"tenure\"]>36) & (df[\"tenure\"]<=48),\"NEW_TENURE_YEAR\"] = \"3-4 Year\"\n",
    "df.loc[ df[\"tenure\"]>48, \"NEW_TENURE_YEAR\"] = \"4+ Year\""
   ]
  },
  {
   "cell_type": "code",
   "execution_count": 56,
   "id": "338881ba",
   "metadata": {},
   "outputs": [],
   "source": [
    "# 2)NEW_noProt\n",
    "# Herhangi bir güvenlik,destek, yedek veya koruma almayan kişiler\n",
    "df[\"NEW_noProt\"] = df.apply(lambda x: 1 if (x[\"OnlineBackup\"] != \"Yes\") or (x[\"OnlineSecurity\"] != \"Yes\") or\n",
    "                                           (x[\"DeviceProtection\"] != \"Yes\") or (x[\"TechSupport\"] != \"Yes\") else 0, axis=1)"
   ]
  },
  {
   "cell_type": "code",
   "execution_count": 57,
   "id": "dda3fe2b",
   "metadata": {},
   "outputs": [],
   "source": [
    "# 3) NEW_TotalServices\n",
    "# Kişinin toplam aldığı servis sayısı\n",
    "df['NEW_TotalServices'] = (df[['PhoneService', 'InternetService', 'OnlineSecurity',\n",
    "                                'OnlineBackup', 'DeviceProtection', 'TechSupport',\n",
    "                                'StreamingTV', 'StreamingMovies']]== 'Yes').sum(axis=1)"
   ]
  },
  {
   "cell_type": "code",
   "execution_count": 58,
   "id": "874784d9",
   "metadata": {},
   "outputs": [],
   "source": [
    "# 4) NEW_any_streaming\n",
    "# Herhangi bir streaming hizmeti alan kişiler\n",
    "df[\"NEW_any_streaming\"] = df.apply(lambda x: 1 if (x[\"StreamingTV\"] == \"Yes\") or (x[\"StreamingMovies\"] == \"Yes\") else 0, axis=1)\n"
   ]
  },
  {
   "cell_type": "code",
   "execution_count": 59,
   "id": "a084e079",
   "metadata": {},
   "outputs": [],
   "source": [
    "# 5)NEW_AVG_Charges\n",
    "# ortalama aylık ödeme\n",
    "df[\"NEW_AVG_Charges\"] = df[\"TotalCharges\"] / (df[\"tenure\"] + 1)"
   ]
  },
  {
   "cell_type": "code",
   "execution_count": 60,
   "id": "c68e0279",
   "metadata": {},
   "outputs": [],
   "source": [
    "# 6) NEW_Increase\n",
    "# Güncel Fiyatın ortalama fiyata göre artışı\n",
    "df[\"NEW_Increase\"] = df[\"NEW_AVG_Charges\"] / df[\"MonthlyCharges\"]"
   ]
  },
  {
   "cell_type": "code",
   "execution_count": 61,
   "id": "0edab0cf",
   "metadata": {},
   "outputs": [
    {
     "data": {
      "text/plain": [
       "(7043, 27)"
      ]
     },
     "execution_count": 61,
     "metadata": {},
     "output_type": "execute_result"
    }
   ],
   "source": [
    "df.shape"
   ]
  },
  {
   "cell_type": "markdown",
   "id": "408f918c",
   "metadata": {},
   "source": [
    "### 3. Encoding İşlemleri"
   ]
  },
  {
   "cell_type": "code",
   "execution_count": 62,
   "id": "d0b6ac2d",
   "metadata": {},
   "outputs": [],
   "source": [
    "# değişkenlerimizi gözlemleyelim."
   ]
  },
  {
   "cell_type": "code",
   "execution_count": 63,
   "id": "ae258aac",
   "metadata": {},
   "outputs": [
    {
     "name": "stdout",
     "output_type": "stream",
     "text": [
      "Observations: 7043\n",
      "Variables: 27\n",
      "cat_cols: 21\n",
      "num_cols: 5\n",
      "cat_but_car: 1\n",
      "num_but_cat: 5\n"
     ]
    }
   ],
   "source": [
    "cat_cols, cat_but_car, num_cols, num_but_cat = grab_col_names(df)"
   ]
  },
  {
   "cell_type": "code",
   "execution_count": 64,
   "id": "2dbe9773",
   "metadata": {},
   "outputs": [],
   "source": [
    "# LABEL ENCODING\n",
    "def label_encoder(dataframe, binary_col):\n",
    "    labelencoder = LabelEncoder()\n",
    "    dataframe[binary_col] = labelencoder.fit_transform(dataframe[binary_col])\n",
    "    return dataframe"
   ]
  },
  {
   "cell_type": "code",
   "execution_count": 65,
   "id": "5d6c8c54",
   "metadata": {},
   "outputs": [
    {
     "data": {
      "text/plain": [
       "['gender', 'Partner', 'Dependents', 'PhoneService', 'PaperlessBilling']"
      ]
     },
     "execution_count": 65,
     "metadata": {},
     "output_type": "execute_result"
    }
   ],
   "source": [
    "binary_cols = [col for col in df.columns if df[col].dtypes == \"O\" and df[col].nunique() == 2]\n",
    "binary_cols"
   ]
  },
  {
   "cell_type": "code",
   "execution_count": 66,
   "id": "eb2df8c8",
   "metadata": {},
   "outputs": [],
   "source": [
    "for col in binary_cols:\n",
    "    df = label_encoder(df, col)"
   ]
  },
  {
   "cell_type": "code",
   "execution_count": 67,
   "id": "5c388f1b",
   "metadata": {},
   "outputs": [
    {
     "data": {
      "text/plain": [
       "['customerID']"
      ]
     },
     "execution_count": 67,
     "metadata": {},
     "output_type": "execute_result"
    }
   ],
   "source": [
    "cat_but_car"
   ]
  },
  {
   "cell_type": "code",
   "execution_count": 68,
   "id": "28279499",
   "metadata": {},
   "outputs": [
    {
     "data": {
      "text/plain": [
       "['tenure', 'MonthlyCharges', 'TotalCharges', 'NEW_AVG_Charges', 'NEW_Increase']"
      ]
     },
     "execution_count": 68,
     "metadata": {},
     "output_type": "execute_result"
    }
   ],
   "source": [
    "num_cols"
   ]
  },
  {
   "cell_type": "code",
   "execution_count": 69,
   "id": "393dcecd",
   "metadata": {},
   "outputs": [
    {
     "data": {
      "text/plain": [
       "['gender',\n",
       " 'Partner',\n",
       " 'Dependents',\n",
       " 'PhoneService',\n",
       " 'MultipleLines',\n",
       " 'InternetService',\n",
       " 'OnlineSecurity',\n",
       " 'OnlineBackup',\n",
       " 'DeviceProtection',\n",
       " 'TechSupport',\n",
       " 'StreamingTV',\n",
       " 'StreamingMovies',\n",
       " 'Contract',\n",
       " 'PaperlessBilling',\n",
       " 'PaymentMethod',\n",
       " 'NEW_TENURE_YEAR',\n",
       " 'SeniorCitizen',\n",
       " 'Churn',\n",
       " 'NEW_noProt',\n",
       " 'NEW_TotalServices',\n",
       " 'NEW_any_streaming']"
      ]
     },
     "execution_count": 69,
     "metadata": {},
     "output_type": "execute_result"
    }
   ],
   "source": [
    "cat_cols"
   ]
  },
  {
   "cell_type": "code",
   "execution_count": 70,
   "id": "c548fa2c",
   "metadata": {},
   "outputs": [],
   "source": [
    "cat_cols = [col for col in cat_cols if col not in binary_cols and col not in [\"Churn\"]]"
   ]
  },
  {
   "cell_type": "code",
   "execution_count": 71,
   "id": "c4706fd8",
   "metadata": {},
   "outputs": [
    {
     "data": {
      "text/plain": [
       "(7043, 27)"
      ]
     },
     "execution_count": 71,
     "metadata": {},
     "output_type": "execute_result"
    }
   ],
   "source": [
    "df.shape"
   ]
  },
  {
   "cell_type": "code",
   "execution_count": 72,
   "id": "45329636",
   "metadata": {},
   "outputs": [],
   "source": [
    "def one_hot_encoder(dataframe, categorical_cols, drop_first=False):\n",
    "    dataframe = pd.get_dummies(dataframe, columns=categorical_cols, drop_first=drop_first)\n",
    "    return dataframe"
   ]
  },
  {
   "cell_type": "code",
   "execution_count": 73,
   "id": "b8507284",
   "metadata": {},
   "outputs": [],
   "source": [
    "df = one_hot_encoder(df, cat_cols, drop_first=True)"
   ]
  },
  {
   "cell_type": "code",
   "execution_count": 74,
   "id": "523a05b6",
   "metadata": {},
   "outputs": [
    {
     "data": {
      "text/plain": [
       "(7043, 47)"
      ]
     },
     "execution_count": 74,
     "metadata": {},
     "output_type": "execute_result"
    }
   ],
   "source": [
    "df.shape"
   ]
  },
  {
   "cell_type": "markdown",
   "id": "8c7343f5",
   "metadata": {},
   "source": [
    "### 4. Numerik değişkenler için standartlaştırma"
   ]
  },
  {
   "cell_type": "code",
   "execution_count": 75,
   "id": "50d22fe4",
   "metadata": {},
   "outputs": [],
   "source": [
    "scaler = RobustScaler()\n",
    "df[num_cols] = scaler.fit_transform(df[num_cols])"
   ]
  },
  {
   "cell_type": "markdown",
   "id": "3625e14d",
   "metadata": {},
   "source": [
    "### 5. Model"
   ]
  },
  {
   "cell_type": "code",
   "execution_count": 76,
   "id": "bf485fbf",
   "metadata": {},
   "outputs": [],
   "source": [
    "y = df[\"Churn\"]\n",
    "X = df.drop([\"Churn\",\"customerID\"], axis=1)"
   ]
  },
  {
   "cell_type": "code",
   "execution_count": 77,
   "id": "0cc43361",
   "metadata": {},
   "outputs": [],
   "source": [
    "X_train, X_test, y_train, y_test = train_test_split(X, y, test_size=0.30, random_state=17)"
   ]
  },
  {
   "cell_type": "code",
   "execution_count": 78,
   "id": "d244a156",
   "metadata": {},
   "outputs": [],
   "source": [
    "rf_model = RandomForestClassifier(random_state=46).fit(X_train, y_train)"
   ]
  },
  {
   "cell_type": "code",
   "execution_count": 80,
   "id": "8f07433d",
   "metadata": {},
   "outputs": [],
   "source": [
    "y_pred = rf_model.predict(X_test)"
   ]
  },
  {
   "cell_type": "code",
   "execution_count": 81,
   "id": "869f81d2",
   "metadata": {},
   "outputs": [
    {
     "name": "stdout",
     "output_type": "stream",
     "text": [
      "Accuracy: 0.7861\n",
      "Recall: 0.6466\n",
      "Precision: 0.4686\n",
      "F1: 0.5434\n",
      "Auc: 0.7335\n"
     ]
    }
   ],
   "source": [
    "print(f\"Accuracy: {round(accuracy_score(y_pred, y_test), 4)}\")\n",
    "print(f\"Recall: {round(recall_score(y_pred,y_test),4)}\")\n",
    "print(f\"Precision: {round(precision_score(y_pred,y_test), 4)}\")\n",
    "print(f\"F1: {round(f1_score(y_pred,y_test), 4)}\")\n",
    "print(f\"Auc: {round(roc_auc_score(y_pred,y_test), 4)}\")"
   ]
  },
  {
   "cell_type": "code",
   "execution_count": null,
   "id": "f5834db9",
   "metadata": {},
   "outputs": [],
   "source": [
    "# yeni oluşturduğumuz değişkenlerin etkisini gözlemleyelim"
   ]
  },
  {
   "cell_type": "code",
   "execution_count": 82,
   "id": "63f55e45",
   "metadata": {},
   "outputs": [
    {
     "data": {
      "image/png": "[encoded data removed]",
      "text/plain": [
       "<Figure size 720x720 with 1 Axes>"
      ]
     },
     "metadata": {
      "needs_background": "light"
     },
     "output_type": "display_data"
    }
   ],
   "source": [
    "def plot_importance(model, features, num=len(X), save=False):\n",
    "    feature_imp = pd.DataFrame({'Value': model.feature_importances_, 'Feature': features.columns})\n",
    "    plt.figure(figsize=(10, 10))\n",
    "    sns.set(font_scale=1)\n",
    "    sns.barplot(x=\"Value\", y=\"Feature\", data=feature_imp.sort_values(by=\"Value\",\n",
    "                                                                      ascending=False)[0:num])\n",
    "    plt.title('Features')\n",
    "    plt.tight_layout()\n",
    "    plt.show()\n",
    "    if save:\n",
    "        plt.savefig('importances.png')\n",
    "\n",
    "plot_importance(rf_model, X_train)\n"
   ]
  }
 ],
 "metadata": {
  "kernelspec": {
   "display_name": "Python 3",
   "language": "python",
   "name": "python3"
  },
  "language_info": {
   "codemirror_mode": {
    "name": "ipython",
    "version": 3
   },
   "file_extension": ".py",
   "mimetype": "text/x-python",
   "name": "python",
   "nbconvert_exporter": "python",
   "pygments_lexer": "ipython3",
   "version": "3.8.8"
  }
 },
 "nbformat": 4,
 "nbformat_minor": 5
}
